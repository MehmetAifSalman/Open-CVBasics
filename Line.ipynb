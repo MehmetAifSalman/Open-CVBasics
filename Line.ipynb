{
 "cells": [
  {
   "cell_type": "code",
   "execution_count": 1,
   "id": "a4d8fa87",
   "metadata": {},
   "outputs": [],
   "source": [
    "import numpy as np\n",
    "import cv2 as cv"
   ]
  },
  {
   "cell_type": "code",
   "execution_count": 2,
   "id": "3b2a03a1",
   "metadata": {},
   "outputs": [],
   "source": [
    "src = cv.imread(\"resim.png\" , cv.IMREAD_COLOR)"
   ]
  },
  {
   "cell_type": "code",
   "execution_count": 3,
   "id": "b869d7d9",
   "metadata": {},
   "outputs": [],
   "source": [
    "baslangic = (155,150)"
   ]
  },
  {
   "cell_type": "code",
   "execution_count": 4,
   "id": "20bbde65",
   "metadata": {},
   "outputs": [],
   "source": [
    "bitis_noktası = (350 , 470)"
   ]
  },
  {
   "cell_type": "code",
   "execution_count": 5,
   "id": "8281905e",
   "metadata": {},
   "outputs": [],
   "source": [
    "renk = (255 , 0 , 0)"
   ]
  },
  {
   "cell_type": "code",
   "execution_count": 6,
   "id": "16722af9",
   "metadata": {},
   "outputs": [],
   "source": [
    "kalinlik = 5"
   ]
  },
  {
   "cell_type": "code",
   "execution_count": 7,
   "id": "f4125549",
   "metadata": {},
   "outputs": [],
   "source": [
    "dst = cv.line(src , baslangic, bitis_noktası, renk,kalinlik)"
   ]
  },
  {
   "cell_type": "code",
   "execution_count": 8,
   "id": "7a3b6469",
   "metadata": {},
   "outputs": [],
   "source": [
    "cv.imshow(\"src\" , src)\n",
    "cv.imshow(\"dst\" , dst)\n",
    "cv.waitKey()\n",
    "cv.destroyAllWindows()"
   ]
  },
  {
   "cell_type": "code",
   "execution_count": null,
   "id": "6f8c1fb1",
   "metadata": {},
   "outputs": [],
   "source": []
  }
 ],
 "metadata": {
  "kernelspec": {
   "display_name": "Python 3 (ipykernel)",
   "language": "python",
   "name": "python3"
  },
  "language_info": {
   "codemirror_mode": {
    "name": "ipython",
    "version": 3
   },
   "file_extension": ".py",
   "mimetype": "text/x-python",
   "name": "python",
   "nbconvert_exporter": "python",
   "pygments_lexer": "ipython3",
   "version": "3.9.12"
  }
 },
 "nbformat": 4,
 "nbformat_minor": 5
}
