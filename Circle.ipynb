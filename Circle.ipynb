{
 "cells": [
  {
   "cell_type": "code",
   "execution_count": 4,
   "id": "ac1e9e3a",
   "metadata": {},
   "outputs": [],
   "source": [
    "import numpy as np\n",
    "import cv2 as cv"
   ]
  },
  {
   "cell_type": "code",
   "execution_count": 5,
   "id": "c151da13",
   "metadata": {},
   "outputs": [],
   "source": [
    "src = cv.imread(\"resim.png\")\n",
    "merkez_kordinatı = (155,155)\n",
    "yaricap = 50\n",
    "renk = (0,0,255)\n",
    "kalinlik = 2"
   ]
  },
  {
   "cell_type": "code",
   "execution_count": 6,
   "id": "62b347f4",
   "metadata": {},
   "outputs": [],
   "source": [
    "dst = cv.circle(src , merkez_kordinatı , yaricap , renk, kalinlik)"
   ]
  },
  {
   "cell_type": "code",
   "execution_count": 7,
   "id": "3bbc8362",
   "metadata": {},
   "outputs": [],
   "source": [
    "cv.imshow(\"src\" , src)\n",
    "cv.imshow(\"dst\" , dst)\n",
    "cv.waitKey()\n",
    "cv.destroyAllWindows()"
   ]
  },
  {
   "cell_type": "code",
   "execution_count": null,
   "id": "708fdb1c",
   "metadata": {},
   "outputs": [],
   "source": []
  }
 ],
 "metadata": {
  "kernelspec": {
   "display_name": "Python 3 (ipykernel)",
   "language": "python",
   "name": "python3"
  },
  "language_info": {
   "codemirror_mode": {
    "name": "ipython",
    "version": 3
   },
   "file_extension": ".py",
   "mimetype": "text/x-python",
   "name": "python",
   "nbconvert_exporter": "python",
   "pygments_lexer": "ipython3",
   "version": "3.9.12"
  }
 },
 "nbformat": 4,
 "nbformat_minor": 5
}
