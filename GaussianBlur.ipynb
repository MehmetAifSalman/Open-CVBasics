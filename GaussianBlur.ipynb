{
 "cells": [
  {
   "cell_type": "code",
   "execution_count": 9,
   "id": "b49b4055",
   "metadata": {},
   "outputs": [],
   "source": [
    "import numpy as np\n",
    "import cv2 as cv"
   ]
  },
  {
   "cell_type": "code",
   "execution_count": 10,
   "id": "65b83fcd",
   "metadata": {},
   "outputs": [],
   "source": [
    "src = cv.imread(\"resim.png\" , 0)"
   ]
  },
  {
   "cell_type": "code",
   "execution_count": 11,
   "id": "aafb32ea",
   "metadata": {},
   "outputs": [],
   "source": [
    "blured = cv.GaussianBlur(src,(15,15),0)\n",
    "bluredi = cv.GaussianBlur(src,(25,25),0)"
   ]
  },
  {
   "cell_type": "code",
   "execution_count": 12,
   "id": "e4824bd9",
   "metadata": {},
   "outputs": [],
   "source": [
    "cv.imshow(\"main\" , src)\n",
    "cv.imshow(\"bluered\" , blured)\n",
    "cv.imshow(\"bluerede\" , bluredi)\n",
    "cv.waitKey()\n",
    "cv.destroyAllWindows()"
   ]
  },
  {
   "cell_type": "code",
   "execution_count": null,
   "id": "7dfea605",
   "metadata": {},
   "outputs": [],
   "source": []
  }
 ],
 "metadata": {
  "kernelspec": {
   "display_name": "Python 3 (ipykernel)",
   "language": "python",
   "name": "python3"
  },
  "language_info": {
   "codemirror_mode": {
    "name": "ipython",
    "version": 3
   },
   "file_extension": ".py",
   "mimetype": "text/x-python",
   "name": "python",
   "nbconvert_exporter": "python",
   "pygments_lexer": "ipython3",
   "version": "3.9.12"
  }
 },
 "nbformat": 4,
 "nbformat_minor": 5
}
