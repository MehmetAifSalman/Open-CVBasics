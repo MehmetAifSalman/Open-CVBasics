{
 "cells": [
  {
   "cell_type": "code",
   "execution_count": 1,
   "id": "34d96a50",
   "metadata": {},
   "outputs": [],
   "source": [
    "import numpy as np\n",
    "import cv2 as cv"
   ]
  },
  {
   "cell_type": "code",
   "execution_count": 2,
   "id": "a4848758",
   "metadata": {},
   "outputs": [],
   "source": [
    "src = cv.imread(\"resim.png\" , cv.IMREAD_COLOR)"
   ]
  },
  {
   "cell_type": "code",
   "execution_count": 3,
   "id": "d0427ae8",
   "metadata": {},
   "outputs": [],
   "source": [
    "baslangic = (15,15)\n",
    "bitis_noktası = (350 ,350)"
   ]
  },
  {
   "cell_type": "code",
   "execution_count": 4,
   "id": "bcaeb2f3",
   "metadata": {},
   "outputs": [],
   "source": [
    "renk = (0,255,255)"
   ]
  },
  {
   "cell_type": "code",
   "execution_count": 5,
   "id": "5ff2a63a",
   "metadata": {},
   "outputs": [],
   "source": [
    "kalinlik = 2"
   ]
  },
  {
   "cell_type": "code",
   "execution_count": 6,
   "id": "ab056ed2",
   "metadata": {},
   "outputs": [],
   "source": [
    "dst = cv.rectangle(src, baslangic , bitis_noktası,renk,kalinlik)"
   ]
  },
  {
   "cell_type": "code",
   "execution_count": 7,
   "id": "5a386f54",
   "metadata": {},
   "outputs": [],
   "source": [
    "cv.imshow(\"src\" , src)\n",
    "cv.imshow(\"dst\" , dst)\n",
    "cv.waitKey()\n",
    "cv.destroyAllWindows()"
   ]
  },
  {
   "cell_type": "code",
   "execution_count": 9,
   "id": "578c6b30",
   "metadata": {},
   "outputs": [],
   "source": []
  },
  {
   "cell_type": "code",
   "execution_count": null,
   "id": "5228f8a3",
   "metadata": {},
   "outputs": [],
   "source": []
  },
  {
   "cell_type": "code",
   "execution_count": null,
   "id": "385504a2",
   "metadata": {},
   "outputs": [],
   "source": []
  }
 ],
 "metadata": {
  "kernelspec": {
   "display_name": "Python 3 (ipykernel)",
   "language": "python",
   "name": "python3"
  },
  "language_info": {
   "codemirror_mode": {
    "name": "ipython",
    "version": 3
   },
   "file_extension": ".py",
   "mimetype": "text/x-python",
   "name": "python",
   "nbconvert_exporter": "python",
   "pygments_lexer": "ipython3",
   "version": "3.9.12"
  }
 },
 "nbformat": 4,
 "nbformat_minor": 5
}
