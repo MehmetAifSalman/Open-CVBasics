{
 "cells": [
  {
   "cell_type": "code",
   "execution_count": 1,
   "id": "f9474876",
   "metadata": {},
   "outputs": [],
   "source": [
    "import numpy as np\n",
    "import cv2 as cv"
   ]
  },
  {
   "cell_type": "code",
   "execution_count": 2,
   "id": "f8adfca5",
   "metadata": {},
   "outputs": [],
   "source": [
    "src = cv.imread(\"resim.png\" , 0)"
   ]
  },
  {
   "cell_type": "code",
   "execution_count": 7,
   "id": "661f4267",
   "metadata": {},
   "outputs": [],
   "source": [
    "blured = cv.GaussianBlur(src,(15,15),0)\n",
    "bluredi = cv.GaussianBlur(src,(25,25),0)"
   ]
  },
  {
   "cell_type": "code",
   "execution_count": 8,
   "id": "62969ec1",
   "metadata": {},
   "outputs": [],
   "source": [
    "cv.imshow(\"main\" , src)\n",
    "cv.imshow(\"bluered\" , blured)\n",
    "cv.imshow(\"bluerede\" , bluredi)\n",
    "cv.waitKey()\n",
    "cv.destroyAllWindows()"
   ]
  },
  {
   "cell_type": "code",
   "execution_count": null,
   "id": "b7aa9f65",
   "metadata": {},
   "outputs": [],
   "source": []
  }
 ],
 "metadata": {
  "kernelspec": {
   "display_name": "Python 3 (ipykernel)",
   "language": "python",
   "name": "python3"
  },
  "language_info": {
   "codemirror_mode": {
    "name": "ipython",
    "version": 3
   },
   "file_extension": ".py",
   "mimetype": "text/x-python",
   "name": "python",
   "nbconvert_exporter": "python",
   "pygments_lexer": "ipython3",
   "version": "3.9.12"
  }
 },
 "nbformat": 4,
 "nbformat_minor": 5
}
