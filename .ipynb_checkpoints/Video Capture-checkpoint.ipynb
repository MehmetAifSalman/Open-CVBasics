{
 "cells": [
  {
   "cell_type": "code",
   "execution_count": 1,
   "id": "ab02bb06",
   "metadata": {},
   "outputs": [],
   "source": [
    "import numpy as np\n",
    "import cv2 as cv"
   ]
  },
  {
   "cell_type": "code",
   "execution_count": null,
   "id": "1f1575a2",
   "metadata": {},
   "outputs": [],
   "source": [
    "cap = cv.VideoCapture(0)\n",
    "if not cap.isOpened():\n",
    "    print(\"Kamera açılmıyor\")\n",
    "    exit()\n",
    "while True:\n",
    "    ret  , frame = cap.read()\n",
    "    if not ret:\n",
    "        print(\"Kareler Yakalanmıyor\")\n",
    "        break\n",
    "    gray = cv.cvtColor(frame,cv.COLOR_BAYER_BG2GRAY)\n",
    "    cv.imshow(\"frame\")"
   ]
  }
 ],
 "metadata": {
  "kernelspec": {
   "display_name": "Python 3 (ipykernel)",
   "language": "python",
   "name": "python3"
  },
  "language_info": {
   "codemirror_mode": {
    "name": "ipython",
    "version": 3
   },
   "file_extension": ".py",
   "mimetype": "text/x-python",
   "name": "python",
   "nbconvert_exporter": "python",
   "pygments_lexer": "ipython3",
   "version": "3.9.12"
  }
 },
 "nbformat": 4,
 "nbformat_minor": 5
}
