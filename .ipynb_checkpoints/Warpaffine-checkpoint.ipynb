{
 "cells": [
  {
   "cell_type": "markdown",
   "id": "b322ec00",
   "metadata": {},
   "source": [
    "## Warpaffine"
   ]
  },
  {
   "cell_type": "code",
   "execution_count": 1,
   "id": "32d73775",
   "metadata": {},
   "outputs": [],
   "source": [
    "import numpy as np\n",
    "import cv2 as cv"
   ]
  },
  {
   "cell_type": "code",
   "execution_count": 2,
   "id": "607b0915",
   "metadata": {},
   "outputs": [],
   "source": [
    "girdi = cv.imread(\"resim.png\" , cv.IMREAD_COLOR)"
   ]
  },
  {
   "cell_type": "code",
   "execution_count": 3,
   "id": "3e1ff092",
   "metadata": {},
   "outputs": [],
   "source": [
    "width , height , channel = girdi.shape"
   ]
  },
  {
   "cell_type": "code",
   "execution_count": 4,
   "id": "3b2313e4",
   "metadata": {},
   "outputs": [
    {
     "data": {
      "text/plain": [
       "3"
      ]
     },
     "execution_count": 4,
     "metadata": {},
     "output_type": "execute_result"
    }
   ],
   "source": [
    "center = (height // 2 , width // 2)"
   ]
  },
  {
   "cell_type": "code",
   "execution_count": 6,
   "id": "a26f6053",
   "metadata": {},
   "outputs": [
    {
     "ename": "NameError",
     "evalue": "name 'center' is not defined",
     "output_type": "error",
     "traceback": [
      "\u001b[1;31m---------------------------------------------------------------------------\u001b[0m",
      "\u001b[1;31mNameError\u001b[0m                                 Traceback (most recent call last)",
      "Input \u001b[1;32mIn [6]\u001b[0m, in \u001b[0;36m<cell line: 1>\u001b[1;34m()\u001b[0m\n\u001b[1;32m----> 1\u001b[0m M \u001b[38;5;241m=\u001b[39m cv\u001b[38;5;241m.\u001b[39mgetRotationMatrix2D(\u001b[43mcenter\u001b[49m , \u001b[38;5;241m-\u001b[39m\u001b[38;5;241m45\u001b[39m , \u001b[38;5;241m1.0\u001b[39m)\n",
      "\u001b[1;31mNameError\u001b[0m: name 'center' is not defined"
     ]
    }
   ],
   "source": [
    "M = cv.getRotationMatrix2D(center, -45 , 1.0)"
   ]
  },
  {
   "cell_type": "code",
   "execution_count": null,
   "id": "ca336076",
   "metadata": {},
   "outputs": [],
   "source": []
  }
 ],
 "metadata": {
  "kernelspec": {
   "display_name": "Python 3 (ipykernel)",
   "language": "python",
   "name": "python3"
  },
  "language_info": {
   "codemirror_mode": {
    "name": "ipython",
    "version": 3
   },
   "file_extension": ".py",
   "mimetype": "text/x-python",
   "name": "python",
   "nbconvert_exporter": "python",
   "pygments_lexer": "ipython3",
   "version": "3.9.12"
  }
 },
 "nbformat": 4,
 "nbformat_minor": 5
}
