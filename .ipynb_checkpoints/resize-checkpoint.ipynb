{
 "cells": [
  {
   "cell_type": "code",
   "execution_count": 1,
   "id": "1a361864",
   "metadata": {},
   "outputs": [],
   "source": [
    "import numpy as np\n",
    "import cv2 as cv"
   ]
  },
  {
   "cell_type": "code",
   "execution_count": 2,
   "id": "89e5b1cb",
   "metadata": {},
   "outputs": [],
   "source": [
    "src = cv.imread(\"resim.png\" , cv.IMREAD_COLOR)\n",
    "width = src.shape[1]\n",
    "height = src.shape[0]\n",
    "dimension = (int(width / 2) , int(height / 2))\n",
    "dst = cv.resize(src , dimension) # Şuan resmin boyutunu yarıya indirip yeni bir değişkene attık\n",
    "cv.imshow(\"src\" , src)\n",
    "cv.imshow(\"dst\" , dst)\n",
    "cv.waitKey()\n",
    "cv.destroyAllWindows()"
   ]
  },
  {
   "cell_type": "code",
   "execution_count": null,
   "id": "e8974755",
   "metadata": {},
   "outputs": [],
   "source": []
  }
 ],
 "metadata": {
  "kernelspec": {
   "display_name": "Python 3 (ipykernel)",
   "language": "python",
   "name": "python3"
  },
  "language_info": {
   "codemirror_mode": {
    "name": "ipython",
    "version": 3
   },
   "file_extension": ".py",
   "mimetype": "text/x-python",
   "name": "python",
   "nbconvert_exporter": "python",
   "pygments_lexer": "ipython3",
   "version": "3.9.12"
  }
 },
 "nbformat": 4,
 "nbformat_minor": 5
}
