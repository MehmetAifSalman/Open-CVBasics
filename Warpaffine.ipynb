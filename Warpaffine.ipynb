{
 "cells": [
  {
   "cell_type": "markdown",
   "id": "7e218c24",
   "metadata": {},
   "source": [
    "## Warpaffine"
   ]
  },
  {
   "cell_type": "code",
   "execution_count": 1,
   "id": "a005fa3b",
   "metadata": {},
   "outputs": [],
   "source": [
    "import numpy as np\n",
    "import cv2 as cv"
   ]
  },
  {
   "cell_type": "code",
   "execution_count": 2,
   "id": "df28c779",
   "metadata": {},
   "outputs": [],
   "source": [
    "girdi = cv.imread(\"resim.png\" , cv.IMREAD_COLOR)"
   ]
  },
  {
   "cell_type": "code",
   "execution_count": 3,
   "id": "e2a323d7",
   "metadata": {},
   "outputs": [],
   "source": [
    "width , height , channel = girdi.shape"
   ]
  },
  {
   "cell_type": "code",
   "execution_count": 4,
   "id": "7ef864ac",
   "metadata": {},
   "outputs": [],
   "source": [
    "center = (height // 2 , width // 2)"
   ]
  },
  {
   "cell_type": "code",
   "execution_count": 5,
   "id": "a4d94c15",
   "metadata": {},
   "outputs": [],
   "source": [
    "M = cv.getRotationMatrix2D(center, -45 , 1.0)"
   ]
  },
  {
   "cell_type": "code",
   "execution_count": 6,
   "id": "ab1d0f68",
   "metadata": {},
   "outputs": [],
   "source": [
    "cikti = cv.warpAffine(girdi , M , (width , height))\n",
    "cv.imshow(\"Girdi\" , girdi)\n",
    "cv.imshow(\"Çıktı\" , cikti)\n",
    "cv.waitKey()\n",
    "cv.destroyAllWindows()"
   ]
  },
  {
   "cell_type": "code",
   "execution_count": null,
   "id": "40938a77",
   "metadata": {},
   "outputs": [],
   "source": []
  }
 ],
 "metadata": {
  "kernelspec": {
   "display_name": "Python 3 (ipykernel)",
   "language": "python",
   "name": "python3"
  },
  "language_info": {
   "codemirror_mode": {
    "name": "ipython",
    "version": 3
   },
   "file_extension": ".py",
   "mimetype": "text/x-python",
   "name": "python",
   "nbconvert_exporter": "python",
   "pygments_lexer": "ipython3",
   "version": "3.9.12"
  }
 },
 "nbformat": 4,
 "nbformat_minor": 5
}
